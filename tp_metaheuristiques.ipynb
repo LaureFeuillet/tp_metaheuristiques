{
 "cells": [
  {
   "cell_type": "markdown",
   "metadata": {},
   "source": [
    "# TP Métaheuristiques"
   ]
  },
  {
   "cell_type": "markdown",
   "metadata": {},
   "source": [
    "## 1ère étape"
   ]
  },
  {
   "cell_type": "markdown",
   "metadata": {},
   "source": [
    "### Lecture des jeux de données"
   ]
  },
  {
   "cell_type": "markdown",
   "metadata": {},
   "source": [
    "https://homepages.laas.fr/huguet/drupal/content/métaheuristiques-4ir-info#overlay-context=content/m%25C3%25A9ta-heuristiques-4ir-info  "
   ]
  },
  {
   "cell_type": "markdown",
   "metadata": {},
   "source": [
    "*Remarque* : Je pense qu'on peut enlever les arcs inutiles, en vérifiant si ils sont dans un des chemins d'évacuation des noeudsE.\n",
    "    --> Penser alors à modifier la valeur de graphe.nombreArc .."
   ]
  },
  {
   "cell_type": "code",
   "execution_count": 3,
   "metadata": {},
   "outputs": [],
   "source": [
    "# Classes\n",
    "\n",
    "class Evacuation:\n",
    "    # Liste des noeuds à évacuer\n",
    "    # Nombre de noeuds à évacuer\n",
    "    # Le noeud sur\n",
    "    \n",
    "    def __init__(self):\n",
    "        self.listeNoeudsE = []\n",
    "    def sur(self, c):\n",
    "        self.nombreNoeudsE = int(c[0])\n",
    "        self.noeudSur = int(c[1])\n",
    "    def ajoutNoeudE(self, c):\n",
    "        nouveauNoeudE = NoeudAEvacuer(c)\n",
    "        self.listeNoeudsE.append(nouveauNoeudE)\n",
    "        \n",
    "class NoeudAEvacuer:\n",
    "    # ID/Population/taux d'évacuation max\n",
    "    # Chemin d'évacuation, composé des id des noeuds par lesquels passer\n",
    "    def __init__(self, c):\n",
    "        self.nom = int(c[0])\n",
    "        self.pop = int(c[1])\n",
    "        self.tauxE = int(c[2])\n",
    "        self.cheminE = [int(noeudId) for noeudId in c[4:]]\n",
    "        \n",
    "class Graphe: \n",
    "    # Liste d'arcs UTILES\n",
    "    # Nombre d'arcs UTILES\n",
    "    def __init__(self):\n",
    "        self.listeArcs = []\n",
    "    def nombre(self,c):\n",
    "        self.nombreArcs = int(c[1])\n",
    "    def ajoutArc(self, c):\n",
    "        nouveauArc = Arc(c)\n",
    "        self.listeArcs.append(nouveauArc)\n",
    "        # On ajoute le même arc avec ses bornes inversées.\n",
    "        x = int(c[0])\n",
    "        c[0] = int(c[1])\n",
    "        c[1] = x\n",
    "        nouveauArc = Arc(c)\n",
    "        self.listeArcs.append(nouveauArc)\n",
    "\n",
    "class Arc: \n",
    "    # Arc origine/destination(int) ??  /Durée(int)/Capa(int) \n",
    "    def __init__(self, c):\n",
    "        self.origine = int(c[0])\n",
    "        self.destination = int(c[1])\n",
    "        self.duree = int(c[3])\n",
    "        self.capa = int(c[4])\n",
    "        \n",
    "# ------------------------------------\n",
    "\n",
    "# Fonction principale\n",
    "\n",
    "def lecture(nomFichier, evacuation, graphe): \n",
    "    with open(\"./Instances/\" + nomFichier, \"r\") as fichier :\n",
    "        print (\"Name of the file: \" + fichier.name)\n",
    "\n",
    "        # Liste des lignes du fichier\n",
    "        lignes = fichier.readlines()\n",
    "        \n",
    "        # Traitement de l'instance\n",
    "        val = 1\n",
    "        for ligne in lignes[1:]: \n",
    "            c = ligne.split()\n",
    "            if c[0] == 'c': \n",
    "                val = 2\n",
    "            else:\n",
    "                if val == 1:\n",
    "                    traitementEvacuation(c, evacuation)\n",
    "                elif val == 2:\n",
    "                    traitementGraphe(c, graphe)\n",
    "                else :\n",
    "                    sys.exit(\"[Erreur] lecture(nomFichier, arbre, graphe)\")\n",
    "                    \n",
    "        # Suppression des arcs inutiles\n",
    "        majArcsUtiles(evacuation, graphe)\n",
    "        # Fermeture du fichier\n",
    "        fichier.close()\n",
    "        # Fin de la lecture\n",
    "\n",
    "# ---------------------------------\n",
    "\n",
    "# Fonctions annexes\n",
    "\n",
    "def traitementEvacuation(c, evacuation):\n",
    "    if len(c) != 2:\n",
    "        evacuation.ajoutNoeudE(c)\n",
    "    else:\n",
    "        evacuation.sur(c)\n",
    "        \n",
    "def traitementGraphe(c, graphe):\n",
    "    if len(c) != 2: \n",
    "        graphe.ajoutArc(c)\n",
    "    else:\n",
    "        graphe.nombre(c)\n",
    "\n",
    "def majArcsUtiles(evacuation, graphe):    \n",
    "    # Création d'une liste d'arcs vraiment utiles issus de l'arbre.\n",
    "    arcsUtiles = []\n",
    "    for noeud in evacuation.listeNoeudsE:\n",
    "        arc = [noeud.nom, noeud.cheminE[0]]\n",
    "        if arc not in arcsUtiles:\n",
    "            arcsUtiles.append(arc)\n",
    "        i = 0\n",
    "        while True:\n",
    "            arc = [noeud.cheminE[i], noeud.cheminE[i+1]]\n",
    "            if arc not in arcsUtiles:\n",
    "                arcsUtiles.append(arc)\n",
    "            i = i + 1\n",
    "            if(noeud.cheminE[i] == evacuation.noeudSur):\n",
    "                break\n",
    "        \n",
    "    # Comparaison des arcs du graphe avec la liste arcsUtiles.\n",
    "    nouveauxArcs = []\n",
    "    for arcPossible in graphe.listeArcs:\n",
    "        if [arcPossible.origine,arcPossible.destination] in arcsUtiles:\n",
    "            nouveauxArcs.append(arcPossible)\n",
    "            \n",
    "    graphe.listeArcs = nouveauxArcs\n",
    "    graphe.nombreArcs = len(graphe.listeArcs)\n",
    "\n",
    "    \n",
    "def affichage(evacuation, graphe):\n",
    "    print(\"\")\n",
    "    print(\"=============================================\")\n",
    "    print(\"--- E V A C U A T I O N ---\")\n",
    "    print(\"Noeud sûr : %s.\" %(evacuation.noeudSur))\n",
    "    print(\"Nombre de noeuds à évacuer : %s.\" %(evacuation.nombreNoeudsE)) \n",
    "    print(\"ID - Pop - TauxE (+ Chemin)\")\n",
    "    for noeudE in evacuation.listeNoeudsE:\n",
    "        print(\"%s     %s     %s\" %(noeudE.nom, noeudE.pop, noeudE.tauxE))\n",
    "        print(*noeudE.cheminE, sep = \" ==> \")\n",
    "        print(\"------------------------------------\")\n",
    "    print(\"\")\n",
    "    print(\"--- A R B R E ---\")\n",
    "    print(\"Nombre d'arcs : %s.\" %(graphe.nombreArcs))\n",
    "    print(\"Orig/Dest -- Durée -- Capacité\")\n",
    "    for arc in graphe.listeArcs:\n",
    "        print(\"  %s/%s       %s      %s\" %(arc.origine, arc.destination, arc.duree, arc.capa))\n",
    "        print(\"------------------------------------\")\n",
    "    print(\"=============================================\")    "
   ]
  },
  {
   "cell_type": "markdown",
   "metadata": {},
   "source": [
    "Testons la méthode de lecture des données sur l'exemple du cours : "
   ]
  },
  {
   "cell_type": "code",
   "execution_count": 4,
   "metadata": {},
   "outputs": [
    {
     "ename": "NameError",
     "evalue": "name 'Arbre' is not defined",
     "output_type": "error",
     "traceback": [
      "\u001b[1;31m---------------------------------------------------------------------------\u001b[0m",
      "\u001b[1;31mNameError\u001b[0m                                 Traceback (most recent call last)",
      "\u001b[1;32m<ipython-input-4-c7f2a0ee3add>\u001b[0m in \u001b[0;36m<module>\u001b[1;34m()\u001b[0m\n\u001b[0;32m      6\u001b[0m     \u001b[0maffichage\u001b[0m\u001b[1;33m(\u001b[0m\u001b[0marbre\u001b[0m\u001b[1;33m,\u001b[0m \u001b[0mgraphe\u001b[0m\u001b[1;33m)\u001b[0m\u001b[1;33m\u001b[0m\u001b[0m\n\u001b[0;32m      7\u001b[0m \u001b[1;33m\u001b[0m\u001b[0m\n\u001b[1;32m----> 8\u001b[1;33m \u001b[0mtestLecture\u001b[0m\u001b[1;33m(\u001b[0m\u001b[1;33m)\u001b[0m\u001b[1;33m\u001b[0m\u001b[0m\n\u001b[0m",
      "\u001b[1;32m<ipython-input-4-c7f2a0ee3add>\u001b[0m in \u001b[0;36mtestLecture\u001b[1;34m()\u001b[0m\n\u001b[0;32m      1\u001b[0m \u001b[1;32mdef\u001b[0m \u001b[0mtestLecture\u001b[0m\u001b[1;33m(\u001b[0m\u001b[1;33m)\u001b[0m\u001b[1;33m:\u001b[0m\u001b[1;33m\u001b[0m\u001b[0m\n\u001b[1;32m----> 2\u001b[1;33m     \u001b[0marbre\u001b[0m \u001b[1;33m=\u001b[0m \u001b[0mArbre\u001b[0m\u001b[1;33m(\u001b[0m\u001b[1;33m)\u001b[0m\u001b[1;33m\u001b[0m\u001b[0m\n\u001b[0m\u001b[0;32m      3\u001b[0m     \u001b[0mgraphe\u001b[0m \u001b[1;33m=\u001b[0m \u001b[0mGraphe\u001b[0m\u001b[1;33m(\u001b[0m\u001b[1;33m)\u001b[0m\u001b[1;33m\u001b[0m\u001b[0m\n\u001b[0;32m      4\u001b[0m \u001b[1;33m\u001b[0m\u001b[0m\n\u001b[0;32m      5\u001b[0m     \u001b[0mlecture\u001b[0m\u001b[1;33m(\u001b[0m\u001b[1;34m\"exemple_cours.txt\"\u001b[0m\u001b[1;33m,\u001b[0m \u001b[0marbre\u001b[0m\u001b[1;33m,\u001b[0m \u001b[0mgraphe\u001b[0m\u001b[1;33m)\u001b[0m\u001b[1;33m\u001b[0m\u001b[0m\n",
      "\u001b[1;31mNameError\u001b[0m: name 'Arbre' is not defined"
     ]
    }
   ],
   "source": [
    "def testLecture(): \n",
    "    arbre = Arbre()\n",
    "    graphe = Graphe()\n",
    "\n",
    "    lecture(\"exemple_cours.txt\", arbre, graphe)\n",
    "    affichage(arbre, graphe)\n",
    "\n",
    "testLecture()"
   ]
  },
  {
   "cell_type": "markdown",
   "metadata": {
    "collapsed": true
   },
   "source": [
    "### Vérification et évaluation d’une solution"
   ]
  },
  {
   "cell_type": "markdown",
   "metadata": {},
   "source": [
    "#### Données de l'exemple"
   ]
  },
  {
   "cell_type": "markdown",
   "metadata": {},
   "source": [
    "cf exemple_cours.txt"
   ]
  },
  {
   "cell_type": "raw",
   "metadata": {},
   "source": [
    "c [evacuation info] format: header with <num evac nodes> <id of safe node> then one line per evac node with <id of the node> <population> <max rate> <k> <v1> ... <vk> where v1,...,vk is the escape route for this node\n",
    "3 6\n",
    "1 48 8 3 4 5 6\n",
    "2 30 5 3 4 5 6\n",
    "3 33 3 2 5 6\n",
    "c [graph] format: header with <num nodes> <num edges> then one line per edge <node 1> <node 2> <duedate> <length> <capacity>\n",
    "7 8\n",
    "0 1 9223372036854775807 100.45 50.2\n",
    "0 2 9223372036854775807 100.45 50.2\n",
    "0 3 9223372036854775807 100.45 50.2\n",
    "1 4 9223372036854775807 7 8\n",
    "2 4 9223372036854775807 4 5\n",
    "3 5 9223372036854775807 6 3\n",
    "4 5 9223372036854775807 9 10\n",
    "5 6 9223372036854775807 12 11"
   ]
  },
  {
   "cell_type": "markdown",
   "metadata": {},
   "source": [
    "#### Fichier solution de l'exemple"
   ]
  },
  {
   "cell_type": "markdown",
   "metadata": {},
   "source": [
    "cf exemple_cours_solution.txt"
   ]
  },
  {
   "cell_type": "raw",
   "metadata": {},
   "source": [
    "exemple_cours\n",
    "1 7 3\n",
    "2 3 0\n",
    "3 3 0\n",
    "valid\n",
    "37\n",
    "1000\n",
    "resolu a la main\n",
    "*** Laure Feuillet & Maël Plantec *** "
   ]
  },
  {
   "cell_type": "markdown",
   "metadata": {},
   "source": [
    "#### Vérification de la solution"
   ]
  },
  {
   "cell_type": "markdown",
   "metadata": {},
   "source": [
    "* Vérifier si la solution est réalisable = Respecte les contraintes.\n",
    "    * vérifier à chaque instant t si la capacité de l'arc n'est pas dépassée = simulation\n",
    "* Vérifier la valeur de la fonction objectif. Pour chaque noeud : \n",
    "    * trouver le nombre de personnes à évacuer\n",
    "    * calculer la durée de transit des personnes de ce noeud : transit = noeudE.pop / solution.tauxE\n",
    "    * calculer la durée du trajet du noeud à évacuer vers le noeud sécurisé : trajet = somme des durées des arcs du chemin d'évacuation\n",
    "    * calculer la durée dévacuation de ce noeud : duree = transit + trajet\n",
    "\n",
    "La valeur de la fonction objectif est le max des durées trouvées pour chaque noeud à évacuer. "
   ]
  },
  {
   "cell_type": "markdown",
   "metadata": {},
   "source": [
    "*Remarque* : Est-ce qu'il faut vérifier si la capacité dans le fichier des données est vraie ? Par exemple en parcourant le chemin d'évacuation, et en gardant le min des capacités. "
   ]
  },
  {
   "cell_type": "code",
   "execution_count": 60,
   "metadata": {},
   "outputs": [],
   "source": [
    "# Fonction principale\n",
    "    \n",
    "def verification(nomFichier, nomFichierSolution, evacuation, graphe, solution):\n",
    "    lecture(nomFichier, evacuation, graphe)\n",
    "    lecture_solution(nomFichierSolution, solution)\n",
    "    result = True\n",
    "    \n",
    "    # Vérifier si la solution est réalisable\n",
    "        # Vérifier à chaque instant t si la capacité de l'arc n'est pas dépassée    \n",
    "    result = simulation()\n",
    "    \n",
    "    # Vérifier la valeur de la fonction objectif\n",
    "    # Pour chaque noeud à évacuer : \n",
    "    durees = []\n",
    "    for noeudE in evacuation.listeNoeudsE: \n",
    "        # Trouver le nombre de personnes à évacuer \n",
    "        # Calculer la durée de transit des personnes de ce noeud : \n",
    "            # transit = noeudE.pop / solution.tauxE\n",
    "        bonNoeudE = [noeudESol.tauxE for noeudESol in solution.listeNoeudsESol if (noeudE.nom == noeudESol.nom)]\n",
    "        transit = noeudE.pop / bonNoeudE[0]\n",
    "        # Calculer la durée du trajet du noeud à évacuer vers le noeud sécurisé : \n",
    "            # trajet = somme des durées des arcs du chemin d'évacuation\n",
    "            \n",
    "        trajet = sum([arc.duree for arc in graphe.listeArcs if (arc.destination in noeudE.cheminE)])\n",
    "        \n",
    "        # Calculer la durée dévacuation de ce noeud : duree = transit + trajet\n",
    "        durees.append(transit + trajet)\n",
    "    valFctObjectif = max(durees)\n",
    "    if(valFctObjectif != solution.valFctObjectif):\n",
    "        result = False\n",
    "    \n",
    "    return result\n",
    "        \n",
    "# ---------------------------------\n",
    "\n",
    "# Fonctions annexes\n",
    "\n",
    "def lecture_solution(nomFichierSolution, solution): \n",
    "    with open(\"./Instances/\" + nomFichierSolution, \"r\") as fichier :\n",
    "        print (\"Name of the file: \" + fichier.name)\n",
    "\n",
    "        # Liste des lignes du fichier\n",
    "        lignes = fichier.readlines()\n",
    "        \n",
    "        # Traitement de l'instance\n",
    "        solution.nom = lignes[0].split()[0]\n",
    "        nbNoeudsE = int(lignes[1].split()[0])\n",
    "        for ligne in lignes[2:(2+nbNoeudsE)]:\n",
    "            c = ligne.split()\n",
    "            solution.ajoutNoeudESol(c)\n",
    "        solution.nature = lignes[2+nbNoeudsE].split()[0]\n",
    "        solution.valFctObjectif = int(lignes[2+nbNoeudsE+1].split()[0])\n",
    "        solution.tpsCalcul = int(lignes[2+nbNoeudsE+2].split()[0])\n",
    "        solution.methode = \" \".join(lignes[2+nbNoeudsE+3].split())\n",
    "        solution.commentaire = \" \".join(lignes[2+nbNoeudsE+4].split())\n",
    "                                    \n",
    "        # Fermeture du fichier\n",
    "        fichier.close()\n",
    "\n",
    "def affichage_solution(solution): \n",
    "    print(\"--- S O L U T I O N ---\")\n",
    "    print(\"Nom de l'instance résolue : \" + solution.nom)\n",
    "    print(\"Noeuds à évacuer : \")\n",
    "    for noeud in solution.listeNoeudsESol:\n",
    "        print(\"     ID : \" + str(noeud.nom) + \" - Taux d'évacuation : \" + str(noeud.tauxE) + \" - Date de début d'évacuation : \" + str(noeud.dateE))\n",
    "    print(\"Nature : \" + solution.nature)\n",
    "    print(\"Valeur de la fonction objectif : \" + str(solution.valFctObjectif))\n",
    "    print(\"Temps de calcul : \" + str(solution.tpsCalcul))\n",
    "    print(\"Méthode de résolution : \" + solution.methode)\n",
    "    print(\"Commentaire : \" + solution.commentaire)\n",
    "\n",
    "def simulation(): \n",
    "    return True\n",
    "\n",
    "# ---------------------------------\n",
    "\n",
    "# Classes\n",
    "\n",
    "class NoeudAEvacuerSol: \n",
    "    # Identifiant\n",
    "    # Taux d'évacuation\n",
    "    # Date de début d'évacuation\n",
    "    def __init__(self, c):\n",
    "        self.nom = int(c[0])\n",
    "        self.tauxE = int(c[1])\n",
    "        self.dateE = int(c[2])\n",
    "\n",
    "class Solution:\n",
    "    # Nom de l'instance résolue\n",
    "    # Pour chaque sommet à évacuer\n",
    "        # Identifiant\n",
    "        # Taux d'évacuation\n",
    "        # Date de début d'évacuation\n",
    "    # Nature de la solution (valid ou invalid)\n",
    "    # Valeur de la fonction objectif\n",
    "    # Temps de calcul\n",
    "    # Méthode utilisée\n",
    "    # Commentaire\n",
    "    \n",
    "    def __init__(self):\n",
    "        self.listeNoeudsESol = []\n",
    "    def ajoutNoeudESol(self, c):\n",
    "        nouveauNoeudESol = NoeudAEvacuerSol(c)\n",
    "        self.listeNoeudsESol.append(nouveauNoeudESol)"
   ]
  },
  {
   "cell_type": "markdown",
   "metadata": {},
   "source": [
    "Testons la méthode de vérification d'une solution sur l'exemple du cours : "
   ]
  },
  {
   "cell_type": "code",
   "execution_count": 61,
   "metadata": {},
   "outputs": [
    {
     "name": "stdout",
     "output_type": "stream",
     "text": [
      "Name of the file: ./Instances/exemple_cours.txt\n",
      "Name of the file: ./Instances/exemple_cours_solution.txt\n",
      "--- S O L U T I O N ---\n",
      "Nom de l'instance résolue : exemple_cours\n",
      "Noeuds à évacuer : \n",
      "     ID : 1 - Taux d'évacuation : 7 - Date de début d'évacuation : 3\n",
      "     ID : 2 - Taux d'évacuation : 3 - Date de début d'évacuation : 0\n",
      "     ID : 3 - Taux d'évacuation : 3 - Date de début d'évacuation : 0\n",
      "Nature : valid\n",
      "Valeur de la fonction objectif : 37\n",
      "Temps de calcul : 1000\n",
      "Méthode de résolution : resolu a la main\n",
      "Commentaire : *** Laure Feuillet & MaÃ«l Plantec ***\n"
     ]
    }
   ],
   "source": [
    "def testVerification(nomFichier, nomFichierSolution): \n",
    "    evacuation = Evacuation()\n",
    "    graphe = Graphe()\n",
    "    solution = Solution()\n",
    "\n",
    "    verification(nomFichier, nomFichierSolution, evacuation, graphe, solution)\n",
    "    affichage_solution(solution)\n",
    "\n",
    "testVerification(\"exemple_cours.txt\", \"exemple_cours_solution.txt\")"
   ]
  },
  {
   "cell_type": "markdown",
   "metadata": {},
   "source": [
    "*Remarque* : Il reste à faire la partie \"simulation\". Je pense qu'on peut utiliser un tableau qui ressemblera au sorte de Gantt coloré qu'il y a sur le Drive.\n",
    "* Chaque colonne correspond à une unité de temps.\n",
    "* Il y a une ligne par arc. \n",
    "* Une case contient un nombre qui est la capacité disponible sur l'arc considéré à la date indiquée par la colonne. \n",
    "\n",
    "Il faudra dans un 1er temps remplir ce tableau, puis tester si le contenu de chaque case ne dépasse pas la capacité max autorisée sur l'arc."
   ]
  }
 ],
 "metadata": {
  "anaconda-cloud": {},
  "kernelspec": {
   "display_name": "Python 3",
   "language": "python",
   "name": "python3"
  },
  "language_info": {
   "codemirror_mode": {
    "name": "ipython",
    "version": 3
   },
   "file_extension": ".py",
   "mimetype": "text/x-python",
   "name": "python",
   "nbconvert_exporter": "python",
   "pygments_lexer": "ipython3",
   "version": "3.7.0"
  }
 },
 "nbformat": 4,
 "nbformat_minor": 2
}
