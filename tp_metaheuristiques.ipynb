{
 "cells": [
  {
   "cell_type": "markdown",
   "metadata": {},
   "source": [
    "# TP Métaheuristiques"
   ]
  },
  {
   "cell_type": "markdown",
   "metadata": {},
   "source": [
    "## 1ère étape"
   ]
  },
  {
   "cell_type": "markdown",
   "metadata": {},
   "source": [
    "### Lecture des jeux de données"
   ]
  },
  {
   "cell_type": "markdown",
   "metadata": {},
   "source": [
    "Remarque : Les arcs enregistrés dans les fichiers ne sont pas forcément dans le bon sens.\n",
    "Exemple : 4 2 <=> 2 4"
   ]
  },
  {
   "cell_type": "code",
   "execution_count": 16,
   "metadata": {},
   "outputs": [],
   "source": [
    "# Objets\n",
    "class Arbre:\n",
    "    \"\"\" Informations d'un noeud à évacuer\n",
    "    - Liste des noeuds evac\n",
    "    - Id du noeud sécurisé\n",
    "    \"\"\"\n",
    "    def __init__(self):\n",
    "        self.listeNoeudsE = []\n",
    "    def sur(self, c):\n",
    "        self.sur = c[1]\n",
    "    def ajoutNoeudE(self, c):\n",
    "        nouveauNoeudE = NoeudAEvacuer(c)\n",
    "        self.listeNoeudsE.append(nouveauNoeudE)\n",
    "        \n",
    "class NoeudAEvacuer:\n",
    "    # ID/Population\n",
    "    # Arc de fuite\n",
    "    def __init__(self, c):\n",
    "        self.id = c[0]\n",
    "        self.pop = c[1]\n",
    "        self.tauxE = c[2]\n",
    "        self.cheminNoeuds = c[3:]\n",
    "    def defArcSuivant(self, arc):\n",
    "        self.arcSuivant = arc\n",
    "    \n",
    "class Arc: \n",
    "    # Arc suivant(arc)/Durée(int)/Capa(int)\n",
    "    def __init__(self, c):\n",
    "        self.arcSuivant = c[0]\n",
    "        self.pop = c[1]\n",
    "        self.tauxE = c[2]\n",
    "        \n",
    "class Graphe: \n",
    "    # Liste d'arcs \n",
    "    def __init__(self):\n",
    "        self.listeArcs = []\n",
    "    def ajoutArc(self, c):\n",
    "        nouveauArc = Arc(c)\n",
    "        self.listeArcs.append(nouveauArc)\n",
    "        \n",
    "# -------------------------------\n",
    "\n",
    "def lecture(nomFichier): \n",
    "    with open(\"Instances/\"+nomFichier, \"r\") as fichier :\n",
    "        print (\"Name of the file: \" + fichier.name)\n",
    "\n",
    "        # Liste des lignes du fichier\n",
    "        lignes = fichier.readlines()\n",
    "        \n",
    "        arbre = Arbre()\n",
    "        graphe = Graphe()\n",
    "        \n",
    "        # Traitement de l'instance\n",
    "        val = 1\n",
    "        for ligne in lignes: \n",
    "            c = ligne.split()\n",
    "            if c[0] == 'c': \n",
    "                val = 2\n",
    "            else:\n",
    "                if val == 1:\n",
    "                    traitementArbre(c)\n",
    "                elif val == 2:\n",
    "                    traitementGraphe(c)\n",
    "                else :\n",
    "                    print(\"Erreur\")\n",
    "\n",
    "    fichier.close()\n",
    "\n",
    "def traitementArbre(c):\n",
    "    if len(c) != 2:\n",
    "        arbre.ajoutNoeudE(c)\n",
    "    else:\n",
    "        arbre.sur(c)\n",
    "        \n",
    "def traitementGraphe(c):\n",
    "    if len(c) != 2: \n",
    "        graphe.ajoutArc(c)\n",
    "        \n"
   ]
  },
  {
   "cell_type": "code",
   "execution_count": null,
   "metadata": {},
   "outputs": [],
   "source": [
    "lecture(exemple_cours.txt)"
   ]
  }
 ],
 "metadata": {
  "kernelspec": {
   "display_name": "Python 3",
   "language": "python",
   "name": "python3"
  },
  "language_info": {
   "codemirror_mode": {
    "name": "ipython",
    "version": 3
   },
   "file_extension": ".py",
   "mimetype": "text/x-python",
   "name": "python",
   "nbconvert_exporter": "python",
   "pygments_lexer": "ipython3",
   "version": "3.7.0"
  }
 },
 "nbformat": 4,
 "nbformat_minor": 2
}
