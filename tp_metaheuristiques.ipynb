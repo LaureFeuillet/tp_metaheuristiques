{
 "cells": [
  {
   "cell_type": "markdown",
   "metadata": {},
   "source": [
    "# TP Métaheuristiques"
   ]
  },
  {
   "cell_type": "markdown",
   "metadata": {},
   "source": [
    "## 1ère étape"
   ]
  },
  {
   "cell_type": "markdown",
   "metadata": {},
   "source": [
    "### Lecture des jeux de données"
   ]
  },
  {
   "cell_type": "markdown",
   "metadata": {},
   "source": [
    "https://homepages.laas.fr/huguet/drupal/content/métaheuristiques-4ir-info#overlay-context=content/m%25C3%25A9ta-heuristiques-4ir-info  "
   ]
  },
  {
   "cell_type": "markdown",
   "metadata": {},
   "source": [
    "Remarque : Les arcs enregistrés dans les fichiers ne sont pas forcément dans le bon sens.\n",
    "Exemple : 4 2 <=> 2 4"
   ]
  },
  {
   "cell_type": "markdown",
   "metadata": {},
   "source": [
    "Remarque 2 : Transformer les string en int pour manipuler tout plus simplement. "
   ]
  },
  {
   "cell_type": "markdown",
   "metadata": {},
   "source": [
    "Remarque 3 : Je pense qu'on peut enlever les arcs inutiles, en vérifiant si ils sont dans un des chemins d'évacuation des noeudsE.\n",
    "    --> Penser alors à modifier la valeur de graphe.nombreArc .."
   ]
  },
  {
   "cell_type": "code",
   "execution_count": 5,
   "metadata": {},
   "outputs": [],
   "source": [
    "# Objets\n",
    "\n",
    "class Arbre:\n",
    "    # Liste des noeuds à évacuer\n",
    "    # Nombre de noeuds à évacuer\n",
    "    # Le noeud sur\n",
    "    \n",
    "    def __init__(self):\n",
    "        self.listeNoeudsE = []\n",
    "    def sur(self, c):\n",
    "        self.nombreNoeudsE = c[0]\n",
    "        self.noeudSur = c[1]\n",
    "    def ajoutNoeudE(self, c):\n",
    "        nouveauNoeudE = NoeudAEvacuer(c)\n",
    "        self.listeNoeudsE.append(nouveauNoeudE)\n",
    "        \n",
    "class NoeudAEvacuer:\n",
    "    # ID/Population/taux d'évacuation max\n",
    "    # Chemin d'évacuation\n",
    "    def __init__(self, c):\n",
    "        self.nom = c[0]\n",
    "        self.pop = c[1]\n",
    "        self.tauxE = c[2]\n",
    "        self.cheminE = c[4:]\n",
    "        \n",
    "class Graphe: \n",
    "    # Liste d'arcs UTILES\n",
    "    # Nombre d'arcs UTILES\n",
    "    def __init__(self):\n",
    "        self.listeArcs = []\n",
    "    def nombre(self,c):\n",
    "        self.nombreArcs = c[1]\n",
    "    def ajoutArc(self, c):\n",
    "        nouveauArc = Arc(c)\n",
    "        self.listeArcs.append(nouveauArc)\n",
    "        # On ajoute le même arc avec ses bornes inversées.\n",
    "        x = c[0]\n",
    "        c[0] = c[1]\n",
    "        c[1] = x\n",
    "        nouveauArc = Arc(c)\n",
    "        self.listeArcs.append(nouveauArc)\n",
    "\n",
    "class Arc: \n",
    "    # Arc origine/destination(int) ??  /Durée(int)/Capa(int) \n",
    "    def __init__(self, c):\n",
    "        self.origine = c[0]\n",
    "        self.destination = c[1]\n",
    "        self.duree = c[3]\n",
    "        self.capa = c[4]\n",
    "        \n",
    "# ------------------------------------\n",
    "\n",
    "def lecture(nomFichier): \n",
    "    with open(\"./Instances/\" + nomFichier, \"r\") as fichier :\n",
    "        print (\"Name of the file: \" + fichier.name)\n",
    "\n",
    "        # Liste des lignes du fichier\n",
    "        lignes = fichier.readlines()\n",
    "        \n",
    "        # Traitement de l'instance\n",
    "        val = 1\n",
    "        for ligne in lignes[1:]: \n",
    "            c = ligne.split()\n",
    "            if c[0] == 'c': \n",
    "                val = 2\n",
    "            else:\n",
    "                if val == 1:\n",
    "                    traitementArbre(c)\n",
    "                elif val == 2:\n",
    "                    traitementGraphe(c)\n",
    "                else :\n",
    "                    print(\"Erreur\")\n",
    "                    \n",
    "        # Suppression des arcs inutiles\n",
    "        majArcsUtiles()\n",
    "        # Fermeture du fichier\n",
    "        fichier.close()\n",
    "        # Fin de la lecture\n",
    "\n",
    "# ---------------------------------\n",
    "\n",
    "# Fonctions\n",
    "\n",
    "def traitementArbre(c):\n",
    "    if len(c) != 2:\n",
    "        arbre.ajoutNoeudE(c)\n",
    "    else:\n",
    "        arbre.sur(c)\n",
    "        \n",
    "def traitementGraphe(c):\n",
    "    if len(c) != 2: \n",
    "        graphe.ajoutArc(c)\n",
    "    else:\n",
    "        graphe.nombre(c)\n",
    "\n",
    "def majArcsUtiles():    \n",
    "    # Création d'une liste d'arcs vraiment utiles issus de l'arbre.\n",
    "    arcsUtiles = []\n",
    "    for noeud in arbre.listeNoeudsE:\n",
    "        arc = [noeud.nom, noeud.cheminE[0]]\n",
    "        if arc not in arcsUtiles:\n",
    "            arcsUtiles.append(arc)\n",
    "        i = 0\n",
    "        while True:\n",
    "            arc = [noeud.cheminE[i], noeud.cheminE[i+1]]\n",
    "            if arc not in arcsUtiles:\n",
    "                arcsUtiles.append(arc)\n",
    "            i = i + 1\n",
    "            if(noeud.cheminE[i] == arbre.noeudSur):\n",
    "                break\n",
    "        \n",
    "    # Comparaison des arcs du graphe avec la liste arcsUtiles.\n",
    "    nouveauxArcs = []\n",
    "    for arcPossible in graphe.listeArcs:\n",
    "        if [arcPossible.origine,arcPossible.destination] in arcsUtiles:\n",
    "            nouveauxArcs.append(arcPossible)\n",
    "            \n",
    "    graphe.listeArcs = nouveauxArcs\n",
    "    graphe.nombreArcs = len(graphe.listeArcs)\n",
    "\n",
    "    \n",
    "def affichage():\n",
    "    print(\"\")\n",
    "    print(\"=============================================\")\n",
    "    print(\"--- Programme d'évacuation ---\")\n",
    "    print(\"Noeud sûr : %s.\" %(arbre.noeudSur))\n",
    "    print(\"Nombre de noeuds à évacuer : %s.\" %(arbre.nombreNoeudsE)) \n",
    "    print(\"ID - Pop - TauxE (+ Chemin)\")\n",
    "    for noeudE in arbre.listeNoeudsE:\n",
    "        print(\"%s     %s     %s\" %(noeudE.nom, noeudE.pop, noeudE.tauxE))\n",
    "        print(*noeudE.cheminE, sep = \" ==> \")\n",
    "        print(\"------------------------------------\")\n",
    "    print(\"\")\n",
    "    print(\"--- A R B R E ---\")\n",
    "    print(\"Nombre d'arcs : %s.\" %(graphe.nombreArcs))\n",
    "    print(\"Orig/Dest -- Durée -- Capacité\")\n",
    "    for arc in graphe.listeArcs:\n",
    "        print(\"  %s/%s       %s      %s\" %(arc.origine, arc.destination, arc.duree, arc.capa))\n",
    "        print(\"------------------------------------\")\n",
    "    print(\"=============================================\")    "
   ]
  },
  {
   "cell_type": "code",
   "execution_count": 6,
   "metadata": {},
   "outputs": [
    {
     "name": "stdout",
     "output_type": "stream",
     "text": [
      "Name of the file: ./Instances/exemple_cours.txt\n",
      "\n",
      "=============================================\n",
      "--- Programme d'évacuation ---\n",
      "Noeud sûr : 6.\n",
      "Nombre de noeuds à évacuer : 3.\n",
      "ID - Pop - TauxE (+ Chemin)\n",
      "1     48     8\n",
      "4 ==> 5 ==> 6\n",
      "------------------------------------\n",
      "2     30     5\n",
      "4 ==> 5 ==> 6\n",
      "------------------------------------\n",
      "3     33     3\n",
      "5 ==> 6\n",
      "------------------------------------\n",
      "\n",
      "--- A R B R E ---\n",
      "Nombre d'arcs : 5.\n",
      "Orig/Dest -- Durée -- Capacité\n",
      "  1/4       7      8\n",
      "------------------------------------\n",
      "  2/4       4      5\n",
      "------------------------------------\n",
      "  3/5       6      3\n",
      "------------------------------------\n",
      "  4/5       9      10\n",
      "------------------------------------\n",
      "  5/6       12      11\n",
      "------------------------------------\n",
      "=============================================\n"
     ]
    }
   ],
   "source": [
    "arbre = Arbre()\n",
    "graphe = Graphe()\n",
    "\n",
    "lecture(\"exemple_cours.txt\")\n",
    "affichage()"
   ]
  },
  {
   "cell_type": "markdown",
   "metadata": {
    "collapsed": true
   },
   "source": [
    "### Vérification et évaluation d’une solution"
   ]
  },
  {
   "cell_type": "markdown",
   "metadata": {},
   "source": [
    "#### Données de l'exemple"
   ]
  },
  {
   "cell_type": "markdown",
   "metadata": {},
   "source": [
    "cf exemple_cours.txt"
   ]
  },
  {
   "cell_type": "raw",
   "metadata": {},
   "source": [
    "c [evacuation info] format: header with <num evac nodes> <id of safe node> then one line per evac node with <id of the node> <population> <max rate> <k> <v1> ... <vk> where v1,...,vk is the escape route for this node\n",
    "3 6\n",
    "1 48 8 3 4 5 6\n",
    "2 30 5 3 4 5 6\n",
    "3 33 3 2 5 6\n",
    "c [graph] format: header with <num nodes> <num edges> then one line per edge <node 1> <node 2> <duedate> <length> <capacity>\n",
    "7 8\n",
    "0 1 9223372036854775807 100.45 50.2\n",
    "0 2 9223372036854775807 100.45 50.2\n",
    "0 3 9223372036854775807 100.45 50.2\n",
    "1 4 9223372036854775807 7 8\n",
    "2 4 9223372036854775807 4 5\n",
    "3 5 9223372036854775807 6 3\n",
    "4 5 9223372036854775807 9 10\n",
    "5 6 9223372036854775807 12 11"
   ]
  },
  {
   "cell_type": "markdown",
   "metadata": {},
   "source": [
    "#### Fichier solution de l'exemple"
   ]
  },
  {
   "cell_type": "markdown",
   "metadata": {},
   "source": [
    "cf exemple_cours_solution.txt"
   ]
  },
  {
   "cell_type": "raw",
   "metadata": {},
   "source": [
    "exemple_cours\n",
    "1 7 3\n",
    "2 3 0\n",
    "3 3 0\n",
    "valid\n",
    "37\n",
    "1000\n",
    "resolu a la main\n",
    "*** Laure Feuillet & Maël Plantec *** "
   ]
  },
  {
   "cell_type": "markdown",
   "metadata": {},
   "source": [
    "#### Vérification de la solution"
   ]
  },
  {
   "cell_type": "markdown",
   "metadata": {},
   "source": [
    "Pour chaque noeud à évacuer, il faut vérifier si le taux d'évacuation est inférieur à la capacité. \n",
    "On retrouve le nombre de personnes à évacuer que l'on divise par le taux d'évacuation du fichier solution. Ca donne la durée d'évacuation du noeud de départ. On y ajoute la date de début d'évacuation du noeud associé. \n",
    "Il faut ensuite calculer pour chaque noeud à évacuer la durée du chemin d'évacuation, et y ajouter la valeur trouvée précedemment. \n",
    "La valeur de la fonction objectif est le max de ces valeurs. "
   ]
  },
  {
   "cell_type": "code",
   "execution_count": 3,
   "metadata": {},
   "outputs": [],
   "source": [
    "def lecture_solution(nom_fichier_solution): \n",
    "\n",
    "def verification(nom_fichier, nom_fichier_solution):\n",
    "    lecture(nom_fichier)\n",
    "    result = \"vrai\"\n",
    "    max = 0\n",
    "    for noeudE in arbre.listeNoeudsE:\n",
    "        \n",
    "        \n",
    "    return result\n",
    "        \n",
    "        \n",
    "        \n",
    "        \n",
    "        \n",
    "        \n",
    "        self.nom = c[0]\n",
    "        self.pop = c[1]\n",
    "        self.tauxE = c[2]\n",
    "        self.cheminE = c[4:]"
   ]
  },
  {
   "cell_type": "code",
   "execution_count": 7,
   "metadata": {},
   "outputs": [],
   "source": [
    "arbre = Arbre()\n",
    "graphe = Graphe()\n",
    "solution = Solution()\n",
    "\n",
    "verification(exemple_cours.txt, exemple_cours_solution.txt)"
   ]
  },
  {
   "cell_type": "code",
   "execution_count": null,
   "metadata": {},
   "outputs": [],
   "source": []
  }
 ],
 "metadata": {
  "anaconda-cloud": {},
  "kernelspec": {
   "display_name": "Python 3",
   "language": "python",
   "name": "python3"
  },
  "language_info": {
   "codemirror_mode": {
    "name": "ipython",
    "version": 3
   },
   "file_extension": ".py",
   "mimetype": "text/x-python",
   "name": "python",
   "nbconvert_exporter": "python",
   "pygments_lexer": "ipython3",
   "version": "3.7.0"
  }
 },
 "nbformat": 4,
 "nbformat_minor": 2
}
