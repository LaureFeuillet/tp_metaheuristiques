{
 "cells": [
  {
   "cell_type": "markdown",
   "metadata": {},
   "source": [
    "# TP Métaheuristiques"
   ]
  },
  {
   "cell_type": "markdown",
   "metadata": {},
   "source": [
    "## 1ère étape"
   ]
  },
  {
   "cell_type": "markdown",
   "metadata": {},
   "source": [
    "### Lecture des jeux de données"
   ]
  },
  {
   "cell_type": "markdown",
   "metadata": {},
   "source": [
    "Remarque : Les arcs enregistrés dans les fichiers ne sont pas forcément dans le bon sens.\n",
    "Exemple : 4 2 <=> 2 4"
   ]
  },
  {
   "cell_type": "code",
   "execution_count": 22,
   "metadata": {
    "collapsed": false
   },
   "outputs": [],
   "source": [
    "# Objets\n",
    "class Arbre:\n",
    "    # Liste des noeuds à évacuer\n",
    "    # Nombre de noeuds à évacuer\n",
    "    # Le noeud sur\n",
    "    \n",
    "    def __init__(self):\n",
    "        self.listeNoeudsE = []\n",
    "    def sur(self, c):\n",
    "        self.nombreNoeudsE = c[0]\n",
    "        self.noeudSur = c[1]\n",
    "    def ajoutNoeudE(self, c):\n",
    "        nouveauNoeudE = NoeudAEvacuer(c)\n",
    "        self.listeNoeudsE.append(nouveauNoeudE)\n",
    "        \n",
    "class NoeudAEvacuer:\n",
    "    # ID/Population/taux d'évacuation max\n",
    "    # Chemin d'évacuation\n",
    "    def __init__(self, c):\n",
    "        self.nom = c[0]\n",
    "        self.pop = c[1]\n",
    "        self.tauxE = c[2]\n",
    "        self.cheminE = c[3:]\n",
    "\n",
    "class Arc: \n",
    "    # Arc origine/destination(int) ??  /Durée(int)/Capa(int) \n",
    "    def __init__(self, c):\n",
    "        self.origine = c[0]\n",
    "        self.destination = c[1]\n",
    "        self.duree = c[3]\n",
    "        self.capa = c[4]\n",
    "        \n",
    "class Graphe: \n",
    "    # Liste d'arcs UTILES ??\n",
    "    # ??????????? Liste noeuds UTILES ??\n",
    "    # Nombre d'arcs UTILES ??\n",
    "    # Nombre de noeuds UTILES ??\n",
    "    def __init__(self):\n",
    "        self.listeArcs = []\n",
    "    def nombre(self,c):\n",
    "        self.nombreNoeuds = c[0]\n",
    "        self.nombreArcs = c[1]\n",
    "    def ajoutArc(self, c):\n",
    "        nouveauArc = Arc(c)\n",
    "        self.listeArcs.append(nouveauArc)\n",
    "    \"\"\"\n",
    "    def majNombreArc(self):\n",
    "        for arc in self.listeArcs:\n",
    "            self.nombreArc = self.nombreArcs + 1\n",
    "    def majNombreNoeuds(self):\n",
    "        for noeud in self.listeNoeuds:\n",
    "            self.nombreNoeuds = self.nombreNoeuds + 1\n",
    "    \"\"\" \n",
    "     \n",
    "# -------------------------------\n",
    "\n",
    "def lecture(nomFichier): \n",
    "    with open(\"./Instances/\" + nomFichier, \"r\") as fichier :\n",
    "        print (\"Name of the file: \" + fichier.name)\n",
    "\n",
    "        # Liste des lignes du fichier\n",
    "        lignes = fichier.readlines()\n",
    "        \n",
    "        # Traitement de l'instance\n",
    "        val = 1\n",
    "        for ligne in lignes[1:]: \n",
    "            c = ligne.split()\n",
    "            if c[0] == 'c': \n",
    "                val = 2\n",
    "            else:\n",
    "                if val == 1:\n",
    "                    traitementArbre(c)\n",
    "                elif val == 2:\n",
    "                    traitementGraphe(c)\n",
    "                else :\n",
    "                    print(\"Erreur\")\n",
    "                \n",
    "        #graphe.majNombreArcs()\n",
    "        #graphe.majNombreNoeuds()\n",
    "    \n",
    "    \n",
    "    \n",
    "        fichier.close()\n",
    "\n",
    "# ---------------------------------\n",
    "\n",
    "# Fonctions\n",
    "def traitementArbre(c):\n",
    "    if len(c) != 2:\n",
    "        arbre.ajoutNoeudE(c)\n",
    "    else:\n",
    "        arbre.sur(c)\n",
    "        \n",
    "def traitementGraphe(c):\n",
    "    if len(c) != 2: \n",
    "        graphe.ajoutArc(c)\n",
    "    else:\n",
    "        graphe.nombre(c)\n",
    "        \n",
    "def affichage():\n",
    "    print(\"=============================================\")\n",
    "    print(\"--- A R B R E ---\")\n",
    "    print(\"Noeud sûr : %s.\" %(arbre.noeudSur))\n",
    "    print(\"Nombre de noeuds à évacuer : %s.\" %(arbre.nombreNoeudsE)) \n",
    "    print(\"ID - Pop - TauxE (+ Chemin)\")\n",
    "    for noeudE in arbre.listeNoeudsE:\n",
    "        print(\"%s     %s     %s\" %(noeudE.nom, noeudE.pop, noeudE.tauxE))\n",
    "        print(*noeudE.cheminE, sep = \" ==> \")\n",
    "        print(\"------------------------------------\")\n",
    "    print(\"--- G R A P H E ---\")\n",
    "    print(\"Nombre de noeuds : %s.\" %(graphe.nombreNoeuds))\n",
    "    print(\"Nombre d'arcs : %s.\" %(graphe.nombreArcs))\n",
    "    print(\"Orig/Dest -- Durée -- Capacité\")\n",
    "    for arc in graphe.listeArcs:\n",
    "        print(\"  %s/%s       %s      %s\" %(arc.origine, arc.destination, arc.duree, arc.capa))\n",
    "        print(\"------------------------------------\")\n",
    "    print(\"=============================================\")\n",
    "    "
   ]
  },
  {
   "cell_type": "code",
   "execution_count": 23,
   "metadata": {
    "collapsed": false
   },
   "outputs": [
    {
     "name": "stdout",
     "output_type": "stream",
     "text": [
      "Name of the file: ./Instances/exemple_cours.txt\n",
      "=============================================\n",
      "--- A R B R E ---\n",
      "Noeud sûr : 6.\n",
      "Nombre de noeuds à évacuer : 3.\n",
      "ID - Pop - TauxE (+ Chemin)\n",
      "1     48     8\n",
      "3 ==> 4 ==> 5 ==> 6\n",
      "------------------------------------\n",
      "2     30     5\n",
      "3 ==> 4 ==> 5 ==> 6\n",
      "------------------------------------\n",
      "3     33     3\n",
      "2 ==> 5 ==> 6\n",
      "------------------------------------\n",
      "--- G R A P H E ---\n",
      "Nombre de noeuds : 7.\n",
      "Nombre d'arcs : 8.\n",
      "Orig/Dest -- Durée -- Capacité\n",
      "  0/1       100.45      50.2\n",
      "------------------------------------\n",
      "  0/2       100.45      50.2\n",
      "------------------------------------\n",
      "  0/3       100.45      50.2\n",
      "------------------------------------\n",
      "  1/4       7      8\n",
      "------------------------------------\n",
      "  2/4       4      5\n",
      "------------------------------------\n",
      "  3/5       6      3\n",
      "------------------------------------\n",
      "  4/5       9      10\n",
      "------------------------------------\n",
      "  5/6       12      11\n",
      "------------------------------------\n",
      "=============================================\n"
     ]
    }
   ],
   "source": [
    "arbre = Arbre()\n",
    "graphe = Graphe()\n",
    "\n",
    "lecture(\"exemple_cours.txt\")\n",
    "affichage()"
   ]
  },
  {
   "cell_type": "markdown",
   "metadata": {
    "collapsed": true
   },
   "source": [
    "Je pense qu'on peut enlever les arcs inutiles, en vérifiant si ils sont dans un des chemins d'évacuation des noeudsE.\n",
    "    --> Penser alors à modifier la valeur de graphe.nombreArc .."
   ]
  }
 ],
 "metadata": {
  "anaconda-cloud": {},
  "kernelspec": {
   "display_name": "Python [default]",
   "language": "python",
   "name": "python3"
  },
  "language_info": {
   "codemirror_mode": {
    "name": "ipython",
    "version": 3
   },
   "file_extension": ".py",
   "mimetype": "text/x-python",
   "name": "python",
   "nbconvert_exporter": "python",
   "pygments_lexer": "ipython3",
   "version": "3.5.2"
  }
 },
 "nbformat": 4,
 "nbformat_minor": 2
}
